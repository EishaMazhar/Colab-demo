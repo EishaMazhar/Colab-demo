{
  "nbformat": 4,
  "nbformat_minor": 0,
  "metadata": {
    "colab": {
      "name": "ML DEMO.ipynb",
      "provenance": [],
      "collapsed_sections": [],
      "authorship_tag": "ABX9TyOZ7mfN8TsTay+huYhsCHNT",
      "include_colab_link": true
    },
    "kernelspec": {
      "name": "python3",
      "display_name": "Python 3"
    }
  },
  "cells": [
    {
      "cell_type": "markdown",
      "metadata": {
        "id": "view-in-github",
        "colab_type": "text"
      },
      "source": [
        "<a href=\"https://colab.research.google.com/github/EishaMazhar/Colab-demo/blob/master/ML_DEMO.ipynb\" target=\"_parent\"><img src=\"https://colab.research.google.com/assets/colab-badge.svg\" alt=\"Open In Colab\"/></a>"
      ]
    },
    {
      "cell_type": "code",
      "metadata": {
        "id": "5-pUPnr_Exfb",
        "colab_type": "code",
        "colab": {}
      },
      "source": [
        "import turicreate as tc\n"
      ],
      "execution_count": 0,
      "outputs": []
    },
    {
      "cell_type": "code",
      "metadata": {
        "id": "qQasMd1NFhx4",
        "colab_type": "code",
        "colab": {}
      },
      "source": [
        "tc??\n"
      ],
      "execution_count": 0,
      "outputs": []
    },
    {
      "cell_type": "code",
      "metadata": {
        "id": "h9FhVhlzGYLt",
        "colab_type": "code",
        "colab": {}
      },
      "source": [
        "#abcd demo\n",
        "\n",
        "#demo test 2"
      ],
      "execution_count": 0,
      "outputs": []
    }
  ]
}